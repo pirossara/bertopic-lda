{
 "cells": [
  {
   "cell_type": "markdown",
   "id": "e42c020c",
   "metadata": {},
   "source": [
    "# Comparison of topics in LDA and BERTopic models\n",
    "based on the ratio of identical elements in topics"
   ]
  },
  {
   "cell_type": "markdown",
   "id": "f294d310",
   "metadata": {},
   "source": [
    "### Import packages"
   ]
  },
  {
   "cell_type": "code",
   "execution_count": 1,
   "id": "4503cd5b",
   "metadata": {},
   "outputs": [],
   "source": [
    "import pandas as pd\n",
    "import numpy as np"
   ]
  },
  {
   "cell_type": "markdown",
   "id": "a2911c65",
   "metadata": {},
   "source": [
    "### Load topic representations"
   ]
  },
  {
   "cell_type": "code",
   "execution_count": 2,
   "id": "158073bc",
   "metadata": {},
   "outputs": [],
   "source": [
    "# load file into dataframe\n",
    "LDA_df = pd.read_excel(\"Topic_outputs/Final/LDA_25words.xlsx\")\n",
    "\n",
    "# filter to relevant columns\n",
    "LDA_df = LDA_df[['0_word', '1_word','2_word','3_word', '4_word', '5_word','6_word','7_word','8_word']]\n",
    "\n",
    "# rename columns\n",
    "LDA_df = LDA_df.rename(columns={'0_word': '1: Támogatás & EU', \n",
    "                                '1_word': '2: Kereszténység & siker',\n",
    "                                '2_word': '3: Migráció & krízis',\n",
    "                                '3_word': '4: Támogatás & választás',\n",
    "                                '4_word': '5: Szerbia & nehézség',\n",
    "                                '5_word': '6: Brüsszel & külföld',\n",
    "                                '6_word': '7: Hosszútávú & növekedés',\n",
    "                                '7_word': '8: Energia & fejlődés',\n",
    "                                '8_word': '9: Nyugat & problémák'\n",
    "                               }\n",
    "                      )"
   ]
  },
  {
   "cell_type": "code",
   "execution_count": 3,
   "id": "f5401a56",
   "metadata": {},
   "outputs": [],
   "source": [
    "#load file into dataframe\n",
    "BERT_df = pd.read_excel(\"Topic_outputs/Final/BERT_LDA_25words.xlsx\")\n",
    "\n",
    "#filter to relevant columns\n",
    "BERT_df = BERT_df[['-1_word','0_word', '1_word','2_word','3_word', '4_word', '5_word','6_word','7_word','8_word']]\n",
    "\n",
    "# rename columns\n",
    "BERT_df = BERT_df.rename(columns={'-1_word': 'Outlier topik',\n",
    "                                  '0_word': '1: Sikeres fejlődés',\n",
    "                                  '1_word': '2: Európa',\n",
    "                                  '2_word': '3: Orosz-ukrán háború',\n",
    "                                  '3_word': '4: Hazafiság',\n",
    "                                  '4_word': '5: Covid',\n",
    "                                  '5_word': '6: Egyház',\n",
    "                                  '6_word': '7: Sport',\n",
    "                                  '7_word': '8: Kína',\n",
    "                                  '8_word': '9: Ipar'\n",
    "                                 }\n",
    "                        )"
   ]
  },
  {
   "cell_type": "markdown",
   "id": "56b16463",
   "metadata": {},
   "source": [
    "## Calculate topic similarity"
   ]
  },
  {
   "cell_type": "code",
   "execution_count": 4,
   "id": "bcc2b549",
   "metadata": {},
   "outputs": [],
   "source": [
    "# Check for duplicates in topics\n",
    "for topic in BERT_df.columns:\n",
    "    if len(set(BERT_df[topic].to_list())) != len(BERT_df[topic].to_list()):\n",
    "        print(f'There are duplicate values in {topic} topic.')"
   ]
  },
  {
   "cell_type": "code",
   "execution_count": 5,
   "id": "e6a6120a",
   "metadata": {},
   "outputs": [],
   "source": [
    "# Check for duplicates in topics\n",
    "for topic in LDA_df.columns:\n",
    "    if len(set(LDA_df[topic].to_list())) != len(LDA_df[topic].to_list()):\n",
    "        print(f'There are duplicate values in {topic} topic.')"
   ]
  },
  {
   "cell_type": "markdown",
   "id": "bec03c1d",
   "metadata": {},
   "source": [
    "### Function"
   ]
  },
  {
   "cell_type": "code",
   "execution_count": 6,
   "id": "ea879071",
   "metadata": {},
   "outputs": [],
   "source": [
    "# Function to create a matrix of the ratio of identical elements in topics\n",
    "def similarity_matrix(df_A, df_B):\n",
    "    sm = []\n",
    "    \n",
    "    for column_A in df_A.columns:\n",
    "        sm_topic = []\n",
    "        for column_B in df_B.columns:\n",
    "            all_words = df_A[column_A].to_list() + df_B[column_B].to_list()\n",
    "            unique_words = set(all_words)\n",
    "            similarity = 1-(len(unique_words)/len(all_words))\n",
    "            sm_topic.append(similarity)\n",
    "        sm.append(sm_topic)\n",
    "    \n",
    "    return sm"
   ]
  },
  {
   "cell_type": "markdown",
   "id": "b6d870e8",
   "metadata": {},
   "source": [
    "### Based on LDA"
   ]
  },
  {
   "cell_type": "code",
   "execution_count": 7,
   "id": "2674a089",
   "metadata": {},
   "outputs": [
    {
     "data": {
      "text/html": [
       "<div>\n",
       "<style scoped>\n",
       "    .dataframe tbody tr th:only-of-type {\n",
       "        vertical-align: middle;\n",
       "    }\n",
       "\n",
       "    .dataframe tbody tr th {\n",
       "        vertical-align: top;\n",
       "    }\n",
       "\n",
       "    .dataframe thead th {\n",
       "        text-align: right;\n",
       "    }\n",
       "</style>\n",
       "<table border=\"1\" class=\"dataframe\">\n",
       "  <thead>\n",
       "    <tr style=\"text-align: right;\">\n",
       "      <th></th>\n",
       "      <th>LDA topic</th>\n",
       "      <th>Most similar BERT_LDA topic</th>\n",
       "      <th>Similarity ratio</th>\n",
       "    </tr>\n",
       "  </thead>\n",
       "  <tbody>\n",
       "    <tr>\n",
       "      <th>0</th>\n",
       "      <td>1: Támogatás &amp; EU</td>\n",
       "      <td>2: Európa</td>\n",
       "      <td>0.16</td>\n",
       "    </tr>\n",
       "    <tr>\n",
       "      <th>1</th>\n",
       "      <td>2: Kereszténység &amp; siker</td>\n",
       "      <td>Outlier topik</td>\n",
       "      <td>0.22</td>\n",
       "    </tr>\n",
       "    <tr>\n",
       "      <th>2</th>\n",
       "      <td>3: Migráció &amp; krízis</td>\n",
       "      <td>Outlier topik</td>\n",
       "      <td>0.18</td>\n",
       "    </tr>\n",
       "    <tr>\n",
       "      <th>3</th>\n",
       "      <td>4: Támogatás &amp; választás</td>\n",
       "      <td>Outlier topik</td>\n",
       "      <td>0.22</td>\n",
       "    </tr>\n",
       "    <tr>\n",
       "      <th>4</th>\n",
       "      <td>5: Szerbia &amp; nehézség</td>\n",
       "      <td>Outlier topik</td>\n",
       "      <td>0.22</td>\n",
       "    </tr>\n",
       "    <tr>\n",
       "      <th>5</th>\n",
       "      <td>6: Brüsszel &amp; külföld</td>\n",
       "      <td>Outlier topik</td>\n",
       "      <td>0.22</td>\n",
       "    </tr>\n",
       "    <tr>\n",
       "      <th>6</th>\n",
       "      <td>7: Hosszútávú &amp; növekedés</td>\n",
       "      <td>Outlier topik</td>\n",
       "      <td>0.26</td>\n",
       "    </tr>\n",
       "    <tr>\n",
       "      <th>7</th>\n",
       "      <td>8: Energia &amp; fejlődés</td>\n",
       "      <td>1: Sikeres fejlődés</td>\n",
       "      <td>0.20</td>\n",
       "    </tr>\n",
       "    <tr>\n",
       "      <th>8</th>\n",
       "      <td>9: Nyugat &amp; problémák</td>\n",
       "      <td>Outlier topik</td>\n",
       "      <td>0.20</td>\n",
       "    </tr>\n",
       "  </tbody>\n",
       "</table>\n",
       "</div>"
      ],
      "text/plain": [
       "                   LDA topic Most similar BERT_LDA topic  Similarity ratio\n",
       "0          1: Támogatás & EU                   2: Európa              0.16\n",
       "1   2: Kereszténység & siker               Outlier topik              0.22\n",
       "2       3: Migráció & krízis               Outlier topik              0.18\n",
       "3   4: Támogatás & választás               Outlier topik              0.22\n",
       "4      5: Szerbia & nehézség               Outlier topik              0.22\n",
       "5      6: Brüsszel & külföld               Outlier topik              0.22\n",
       "6  7: Hosszútávú & növekedés               Outlier topik              0.26\n",
       "7      8: Energia & fejlődés         1: Sikeres fejlődés              0.20\n",
       "8      9: Nyugat & problémák               Outlier topik              0.20"
      ]
     },
     "execution_count": 7,
     "metadata": {},
     "output_type": "execute_result"
    }
   ],
   "source": [
    "sim_matrix = similarity_matrix(LDA_df,BERT_df)\n",
    "\n",
    "lda_bert_compare = []\n",
    "\n",
    "for topic_num in range(0,9,1):\n",
    "\n",
    "    most_similar_topic = np.argmax(sim_matrix[topic_num])\n",
    "    \n",
    "    lda_bert_compare.append(\n",
    "        {'LDA topic': LDA_df.columns[topic_num],\n",
    "         'Most similar BERT_LDA topic': BERT_df.columns[most_similar_topic],\n",
    "         'Similarity ratio': round(sim_matrix[topic_num][most_similar_topic],3)\n",
    "        }\n",
    "    )\n",
    "\n",
    "pd.DataFrame(lda_bert_compare)"
   ]
  },
  {
   "cell_type": "markdown",
   "id": "9170a1fc",
   "metadata": {},
   "source": [
    "### Based on BERT"
   ]
  },
  {
   "cell_type": "code",
   "execution_count": 8,
   "id": "e74b8223",
   "metadata": {},
   "outputs": [
    {
     "data": {
      "text/html": [
       "<div>\n",
       "<style scoped>\n",
       "    .dataframe tbody tr th:only-of-type {\n",
       "        vertical-align: middle;\n",
       "    }\n",
       "\n",
       "    .dataframe tbody tr th {\n",
       "        vertical-align: top;\n",
       "    }\n",
       "\n",
       "    .dataframe thead th {\n",
       "        text-align: right;\n",
       "    }\n",
       "</style>\n",
       "<table border=\"1\" class=\"dataframe\">\n",
       "  <thead>\n",
       "    <tr style=\"text-align: right;\">\n",
       "      <th></th>\n",
       "      <th>BERT_LDA topic</th>\n",
       "      <th>Most similar LDA topic</th>\n",
       "      <th>Similarity ratio</th>\n",
       "    </tr>\n",
       "  </thead>\n",
       "  <tbody>\n",
       "    <tr>\n",
       "      <th>0</th>\n",
       "      <td>Outlier topik</td>\n",
       "      <td>7: Hosszútávú &amp; növekedés</td>\n",
       "      <td>0.26</td>\n",
       "    </tr>\n",
       "    <tr>\n",
       "      <th>1</th>\n",
       "      <td>1: Sikeres fejlődés</td>\n",
       "      <td>7: Hosszútávú &amp; növekedés</td>\n",
       "      <td>0.24</td>\n",
       "    </tr>\n",
       "    <tr>\n",
       "      <th>2</th>\n",
       "      <td>2: Európa</td>\n",
       "      <td>1: Támogatás &amp; EU</td>\n",
       "      <td>0.16</td>\n",
       "    </tr>\n",
       "    <tr>\n",
       "      <th>3</th>\n",
       "      <td>3: Orosz-ukrán háború</td>\n",
       "      <td>9: Nyugat &amp; problémák</td>\n",
       "      <td>0.10</td>\n",
       "    </tr>\n",
       "    <tr>\n",
       "      <th>4</th>\n",
       "      <td>4: Hazafiság</td>\n",
       "      <td>3: Migráció &amp; krízis</td>\n",
       "      <td>0.14</td>\n",
       "    </tr>\n",
       "    <tr>\n",
       "      <th>5</th>\n",
       "      <td>5: Covid</td>\n",
       "      <td>3: Migráció &amp; krízis</td>\n",
       "      <td>0.04</td>\n",
       "    </tr>\n",
       "    <tr>\n",
       "      <th>6</th>\n",
       "      <td>6: Egyház</td>\n",
       "      <td>4: Támogatás &amp; választás</td>\n",
       "      <td>0.08</td>\n",
       "    </tr>\n",
       "    <tr>\n",
       "      <th>7</th>\n",
       "      <td>7: Sport</td>\n",
       "      <td>6: Brüsszel &amp; külföld</td>\n",
       "      <td>0.04</td>\n",
       "    </tr>\n",
       "    <tr>\n",
       "      <th>8</th>\n",
       "      <td>8: Kína</td>\n",
       "      <td>5: Szerbia &amp; nehézség</td>\n",
       "      <td>0.10</td>\n",
       "    </tr>\n",
       "    <tr>\n",
       "      <th>9</th>\n",
       "      <td>9: Ipar</td>\n",
       "      <td>1: Támogatás &amp; EU</td>\n",
       "      <td>0.04</td>\n",
       "    </tr>\n",
       "  </tbody>\n",
       "</table>\n",
       "</div>"
      ],
      "text/plain": [
       "          BERT_LDA topic     Most similar LDA topic  Similarity ratio\n",
       "0          Outlier topik  7: Hosszútávú & növekedés              0.26\n",
       "1    1: Sikeres fejlődés  7: Hosszútávú & növekedés              0.24\n",
       "2              2: Európa          1: Támogatás & EU              0.16\n",
       "3  3: Orosz-ukrán háború      9: Nyugat & problémák              0.10\n",
       "4           4: Hazafiság       3: Migráció & krízis              0.14\n",
       "5               5: Covid       3: Migráció & krízis              0.04\n",
       "6              6: Egyház   4: Támogatás & választás              0.08\n",
       "7               7: Sport      6: Brüsszel & külföld              0.04\n",
       "8                8: Kína      5: Szerbia & nehézség              0.10\n",
       "9                9: Ipar          1: Támogatás & EU              0.04"
      ]
     },
     "execution_count": 8,
     "metadata": {},
     "output_type": "execute_result"
    }
   ],
   "source": [
    "sim_matrix = similarity_matrix(BERT_df, LDA_df)\n",
    "\n",
    "bert_lda_compare = []\n",
    "\n",
    "for topic_num in range(0,10,1):\n",
    "\n",
    "    most_similar_topic = np.argmax(sim_matrix[topic_num])\n",
    "    \n",
    "    bert_lda_compare.append(\n",
    "        {'BERT_LDA topic': BERT_df.columns[topic_num],\n",
    "         'Most similar LDA topic': LDA_df.columns[most_similar_topic],\n",
    "         'Similarity ratio': round(sim_matrix[topic_num][most_similar_topic],2)\n",
    "        }\n",
    "    )\n",
    "\n",
    "pd.DataFrame(bert_lda_compare)"
   ]
  }
 ],
 "metadata": {
  "kernelspec": {
   "display_name": "Python 3 (ipykernel)",
   "language": "python",
   "name": "python3"
  },
  "language_info": {
   "codemirror_mode": {
    "name": "ipython",
    "version": 3
   },
   "file_extension": ".py",
   "mimetype": "text/x-python",
   "name": "python",
   "nbconvert_exporter": "python",
   "pygments_lexer": "ipython3",
   "version": "3.11.5"
  }
 },
 "nbformat": 4,
 "nbformat_minor": 5
}
