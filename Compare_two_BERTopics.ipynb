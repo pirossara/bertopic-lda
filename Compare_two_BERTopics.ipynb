{
 "cells": [
  {
   "cell_type": "markdown",
   "id": "76803d25",
   "metadata": {},
   "source": [
    "# Comparison of topics in two BERTopic models\n",
    "based on cosine similarity"
   ]
  },
  {
   "cell_type": "markdown",
   "id": "9b45f660",
   "metadata": {},
   "source": [
    "### Import packages"
   ]
  },
  {
   "cell_type": "code",
   "execution_count": 1,
   "id": "e2b4d431",
   "metadata": {},
   "outputs": [],
   "source": [
    "from bertopic import BERTopic\n",
    "from sklearn.metrics.pairwise import cosine_similarity\n",
    "import numpy as np\n",
    "import pandas as pd"
   ]
  },
  {
   "cell_type": "markdown",
   "id": "975db04f",
   "metadata": {},
   "source": [
    "### Load serialized models"
   ]
  },
  {
   "cell_type": "code",
   "execution_count": 2,
   "id": "54c83b59",
   "metadata": {},
   "outputs": [],
   "source": [
    "# Load model from file\n",
    "bertopic_opt = BERTopic.load(\"Modellek/bertopic_opt\")"
   ]
  },
  {
   "cell_type": "code",
   "execution_count": 3,
   "id": "7d9ff1d9",
   "metadata": {},
   "outputs": [],
   "source": [
    "# Load model from file\n",
    "bertopic_lda = BERTopic.load(\"Modellek/bertopic_lda\")"
   ]
  },
  {
   "cell_type": "markdown",
   "id": "fa441c8d",
   "metadata": {},
   "source": [
    "### Custom labels"
   ]
  },
  {
   "cell_type": "code",
   "execution_count": 4,
   "id": "b68d6632",
   "metadata": {},
   "outputs": [
    {
     "data": {
      "text/plain": [
       "['Outlier topik',\n",
       " 'Sikeres fejlődés',\n",
       " 'Európa',\n",
       " 'Orosz-ukrán háború',\n",
       " 'Hazafiság',\n",
       " 'Covid',\n",
       " 'Egyház',\n",
       " 'Sport',\n",
       " 'Kína',\n",
       " 'Ipar']"
      ]
     },
     "execution_count": 4,
     "metadata": {},
     "output_type": "execute_result"
    }
   ],
   "source": [
    "bertopic_lda.set_topic_labels(\n",
    "    {-1: \"Outlier topik\",\n",
    "     0: \"Sikeres fejlődés\", \n",
    "     1: \"Európa\", \n",
    "     2: \"Orosz-ukrán háború\",\n",
    "     3: \"Hazafiság\",\n",
    "     4: \"Covid\",\n",
    "     5: \"Egyház\",\n",
    "     6: \"Sport\",\n",
    "     7: \"Kína\",\n",
    "     8: \"Ipar\",\n",
    "    }\n",
    ")\n",
    "bertopic_lda.custom_labels_ #to pass these names to the model"
   ]
  },
  {
   "cell_type": "code",
   "execution_count": 5,
   "id": "dd567a0c",
   "metadata": {},
   "outputs": [
    {
     "data": {
      "text/plain": [
       "['Outlier topik',\n",
       " 'Sikeres fejlődés',\n",
       " 'Európa',\n",
       " 'Orosz-ukrán háború',\n",
       " 'Hazafiság',\n",
       " 'Covid',\n",
       " 'Egyház',\n",
       " 'Sport',\n",
       " 'Kína',\n",
       " 'Ipar']"
      ]
     },
     "execution_count": 5,
     "metadata": {},
     "output_type": "execute_result"
    }
   ],
   "source": [
    "bertopic_opt.set_topic_labels(\n",
    "    {-1: \"Outlier topik\",\n",
    "     0: \"Általános\", \n",
    "     1: \"Covid\", \n",
    "     2: \"Törökország & Egyiptom\",\n",
    "     3: \"Egyház\",\n",
    "     4: \"Igazságszolgáltatás\",\n",
    "     5: \"Választás\",\n",
    "     6: \"Kína\",\n",
    "     7: \"Európa\",\n",
    "     8: \"Ukrajna\",\n",
    "     9: \"Olimpia\",\n",
    "     10: \"Orosz-ukrán háború\",\n",
    "     11: \"Orosz együttműködés\",\n",
    "     12: \"Sport & egyetem\",\n",
    "     13: \"Általános lakossági\",\n",
    "     14: \"Nyugdíj\",\n",
    "     15: \"Településfejlesztés\"\n",
    "    }\n",
    ")\n",
    "\n",
    "bertopic_lda.custom_labels_ #to pass these names to the model"
   ]
  },
  {
   "cell_type": "markdown",
   "id": "b16d0209",
   "metadata": {},
   "source": [
    "--------------------------------\n",
    "\n",
    "## Calculate most similar topics"
   ]
  },
  {
   "cell_type": "markdown",
   "id": "6125008f",
   "metadata": {},
   "source": [
    "Sources of the method: \n",
    "- https://maartengr.github.io/BERTopic/getting_started/tips_and_tricks/tips_and_tricks.html#finding-similar-topics-between-models\n",
    "- https://scikit-learn.org/stable/modules/generated/sklearn.metrics.pairwise.cosine_similarity.html"
   ]
  },
  {
   "cell_type": "markdown",
   "id": "9bc68c22",
   "metadata": {},
   "source": [
    "### Based on BERT_Opt topics"
   ]
  },
  {
   "cell_type": "code",
   "execution_count": 6,
   "id": "03d1c6ce",
   "metadata": {},
   "outputs": [
    {
     "data": {
      "text/html": [
       "<div>\n",
       "<style scoped>\n",
       "    .dataframe tbody tr th:only-of-type {\n",
       "        vertical-align: middle;\n",
       "    }\n",
       "\n",
       "    .dataframe tbody tr th {\n",
       "        vertical-align: top;\n",
       "    }\n",
       "\n",
       "    .dataframe thead th {\n",
       "        text-align: right;\n",
       "    }\n",
       "</style>\n",
       "<table border=\"1\" class=\"dataframe\">\n",
       "  <thead>\n",
       "    <tr style=\"text-align: right;\">\n",
       "      <th></th>\n",
       "      <th>BERT_Opt topic</th>\n",
       "      <th>Most similar BERT_LDA topic</th>\n",
       "      <th>Cosine similarity</th>\n",
       "    </tr>\n",
       "  </thead>\n",
       "  <tbody>\n",
       "    <tr>\n",
       "      <th>0</th>\n",
       "      <td>Outlier topik</td>\n",
       "      <td>Outlier topik</td>\n",
       "      <td>0.997</td>\n",
       "    </tr>\n",
       "    <tr>\n",
       "      <th>1</th>\n",
       "      <td>Általános</td>\n",
       "      <td>Sikeres fejlődés</td>\n",
       "      <td>0.991</td>\n",
       "    </tr>\n",
       "    <tr>\n",
       "      <th>2</th>\n",
       "      <td>Covid</td>\n",
       "      <td>Covid</td>\n",
       "      <td>1.000</td>\n",
       "    </tr>\n",
       "    <tr>\n",
       "      <th>3</th>\n",
       "      <td>Törökország &amp; Egyiptom</td>\n",
       "      <td>Sikeres fejlődés</td>\n",
       "      <td>0.884</td>\n",
       "    </tr>\n",
       "    <tr>\n",
       "      <th>4</th>\n",
       "      <td>Egyház</td>\n",
       "      <td>Egyház</td>\n",
       "      <td>1.000</td>\n",
       "    </tr>\n",
       "    <tr>\n",
       "      <th>5</th>\n",
       "      <td>Igazságszolgáltatás</td>\n",
       "      <td>Sikeres fejlődés</td>\n",
       "      <td>0.836</td>\n",
       "    </tr>\n",
       "    <tr>\n",
       "      <th>6</th>\n",
       "      <td>Választás</td>\n",
       "      <td>Sikeres fejlődés</td>\n",
       "      <td>0.870</td>\n",
       "    </tr>\n",
       "    <tr>\n",
       "      <th>7</th>\n",
       "      <td>Kína</td>\n",
       "      <td>Kína</td>\n",
       "      <td>0.999</td>\n",
       "    </tr>\n",
       "    <tr>\n",
       "      <th>8</th>\n",
       "      <td>Európa</td>\n",
       "      <td>Outlier topik</td>\n",
       "      <td>0.834</td>\n",
       "    </tr>\n",
       "    <tr>\n",
       "      <th>9</th>\n",
       "      <td>Ukrajna</td>\n",
       "      <td>Orosz-ukrán háború</td>\n",
       "      <td>0.910</td>\n",
       "    </tr>\n",
       "    <tr>\n",
       "      <th>10</th>\n",
       "      <td>Olimpia</td>\n",
       "      <td>Sport</td>\n",
       "      <td>0.959</td>\n",
       "    </tr>\n",
       "    <tr>\n",
       "      <th>11</th>\n",
       "      <td>Orosz-ukrán háború</td>\n",
       "      <td>Orosz-ukrán háború</td>\n",
       "      <td>0.893</td>\n",
       "    </tr>\n",
       "    <tr>\n",
       "      <th>12</th>\n",
       "      <td>Orosz együttműködés</td>\n",
       "      <td>Orosz-ukrán háború</td>\n",
       "      <td>0.917</td>\n",
       "    </tr>\n",
       "    <tr>\n",
       "      <th>13</th>\n",
       "      <td>Sport &amp; egyetem</td>\n",
       "      <td>Sport</td>\n",
       "      <td>0.927</td>\n",
       "    </tr>\n",
       "    <tr>\n",
       "      <th>14</th>\n",
       "      <td>Általános lakossági</td>\n",
       "      <td>Outlier topik</td>\n",
       "      <td>0.779</td>\n",
       "    </tr>\n",
       "    <tr>\n",
       "      <th>15</th>\n",
       "      <td>Nyugdíj</td>\n",
       "      <td>Outlier topik</td>\n",
       "      <td>0.792</td>\n",
       "    </tr>\n",
       "    <tr>\n",
       "      <th>16</th>\n",
       "      <td>Településfejlesztés</td>\n",
       "      <td>Outlier topik</td>\n",
       "      <td>0.706</td>\n",
       "    </tr>\n",
       "  </tbody>\n",
       "</table>\n",
       "</div>"
      ],
      "text/plain": [
       "            BERT_Opt topic Most similar BERT_LDA topic  Cosine similarity\n",
       "0            Outlier topik               Outlier topik              0.997\n",
       "1                Általános            Sikeres fejlődés              0.991\n",
       "2                    Covid                       Covid              1.000\n",
       "3   Törökország & Egyiptom            Sikeres fejlődés              0.884\n",
       "4                   Egyház                      Egyház              1.000\n",
       "5      Igazságszolgáltatás            Sikeres fejlődés              0.836\n",
       "6                Választás            Sikeres fejlődés              0.870\n",
       "7                     Kína                        Kína              0.999\n",
       "8                   Európa               Outlier topik              0.834\n",
       "9                  Ukrajna          Orosz-ukrán háború              0.910\n",
       "10                 Olimpia                       Sport              0.959\n",
       "11      Orosz-ukrán háború          Orosz-ukrán háború              0.893\n",
       "12     Orosz együttműködés          Orosz-ukrán háború              0.917\n",
       "13         Sport & egyetem                       Sport              0.927\n",
       "14     Általános lakossági               Outlier topik              0.779\n",
       "15                 Nyugdíj               Outlier topik              0.792\n",
       "16     Településfejlesztés               Outlier topik              0.706"
      ]
     },
     "execution_count": 6,
     "metadata": {},
     "output_type": "execute_result"
    }
   ],
   "source": [
    "sim_matrix = cosine_similarity(bertopic_opt.topic_embeddings_, bertopic_lda.topic_embeddings_)\n",
    "\n",
    "opt_lda_compare = []\n",
    "\n",
    "for topic in range(-1,16,1):\n",
    "    # the \"+1\" and \"-1\" below are needed because the topic numbering starts from -1\n",
    "    most_similar_topic = np.argmax(sim_matrix[topic + 1])-1\n",
    "    \n",
    "    opt_lda_compare.append(\n",
    "        {'BERT_Opt topic': bertopic_opt.get_topic_info(topic)['CustomName'][0],\n",
    "         'Most similar BERT_LDA topic': bertopic_lda.get_topic_info(most_similar_topic)['CustomName'][0],\n",
    "         'Cosine similarity': round(sim_matrix[topic + 1][most_similar_topic+1],3)\n",
    "        }\n",
    "    )\n",
    "\n",
    "pd.DataFrame(opt_lda_compare)"
   ]
  },
  {
   "cell_type": "markdown",
   "id": "2251fe9d",
   "metadata": {},
   "source": [
    "### Based on BERT_LDA topics"
   ]
  },
  {
   "cell_type": "code",
   "execution_count": 7,
   "id": "4090ad47",
   "metadata": {
    "scrolled": true
   },
   "outputs": [
    {
     "data": {
      "text/html": [
       "<div>\n",
       "<style scoped>\n",
       "    .dataframe tbody tr th:only-of-type {\n",
       "        vertical-align: middle;\n",
       "    }\n",
       "\n",
       "    .dataframe tbody tr th {\n",
       "        vertical-align: top;\n",
       "    }\n",
       "\n",
       "    .dataframe thead th {\n",
       "        text-align: right;\n",
       "    }\n",
       "</style>\n",
       "<table border=\"1\" class=\"dataframe\">\n",
       "  <thead>\n",
       "    <tr style=\"text-align: right;\">\n",
       "      <th></th>\n",
       "      <th>BERT_LDA topic</th>\n",
       "      <th>Most similar BERT_Opt topic</th>\n",
       "      <th>Cosine similarity</th>\n",
       "    </tr>\n",
       "  </thead>\n",
       "  <tbody>\n",
       "    <tr>\n",
       "      <th>0</th>\n",
       "      <td>Outlier topik</td>\n",
       "      <td>Outlier topik</td>\n",
       "      <td>0.997</td>\n",
       "    </tr>\n",
       "    <tr>\n",
       "      <th>1</th>\n",
       "      <td>Sikeres fejlődés</td>\n",
       "      <td>Általános</td>\n",
       "      <td>0.991</td>\n",
       "    </tr>\n",
       "    <tr>\n",
       "      <th>2</th>\n",
       "      <td>Európa</td>\n",
       "      <td>Outlier topik</td>\n",
       "      <td>0.938</td>\n",
       "    </tr>\n",
       "    <tr>\n",
       "      <th>3</th>\n",
       "      <td>Orosz-ukrán háború</td>\n",
       "      <td>Orosz együttműködés</td>\n",
       "      <td>0.917</td>\n",
       "    </tr>\n",
       "    <tr>\n",
       "      <th>4</th>\n",
       "      <td>Hazafiság</td>\n",
       "      <td>Általános</td>\n",
       "      <td>0.859</td>\n",
       "    </tr>\n",
       "    <tr>\n",
       "      <th>5</th>\n",
       "      <td>Covid</td>\n",
       "      <td>Covid</td>\n",
       "      <td>1.000</td>\n",
       "    </tr>\n",
       "    <tr>\n",
       "      <th>6</th>\n",
       "      <td>Egyház</td>\n",
       "      <td>Egyház</td>\n",
       "      <td>1.000</td>\n",
       "    </tr>\n",
       "    <tr>\n",
       "      <th>7</th>\n",
       "      <td>Sport</td>\n",
       "      <td>Olimpia</td>\n",
       "      <td>0.959</td>\n",
       "    </tr>\n",
       "    <tr>\n",
       "      <th>8</th>\n",
       "      <td>Kína</td>\n",
       "      <td>Kína</td>\n",
       "      <td>0.999</td>\n",
       "    </tr>\n",
       "    <tr>\n",
       "      <th>9</th>\n",
       "      <td>Ipar</td>\n",
       "      <td>Általános</td>\n",
       "      <td>0.789</td>\n",
       "    </tr>\n",
       "  </tbody>\n",
       "</table>\n",
       "</div>"
      ],
      "text/plain": [
       "       BERT_LDA topic Most similar BERT_Opt topic  Cosine similarity\n",
       "0       Outlier topik               Outlier topik              0.997\n",
       "1    Sikeres fejlődés                   Általános              0.991\n",
       "2              Európa               Outlier topik              0.938\n",
       "3  Orosz-ukrán háború         Orosz együttműködés              0.917\n",
       "4           Hazafiság                   Általános              0.859\n",
       "5               Covid                       Covid              1.000\n",
       "6              Egyház                      Egyház              1.000\n",
       "7               Sport                     Olimpia              0.959\n",
       "8                Kína                        Kína              0.999\n",
       "9                Ipar                   Általános              0.789"
      ]
     },
     "execution_count": 7,
     "metadata": {},
     "output_type": "execute_result"
    }
   ],
   "source": [
    "sim_matrix = cosine_similarity(bertopic_lda.topic_embeddings_, bertopic_opt.topic_embeddings_)\n",
    "\n",
    "lda_opt_compare = []\n",
    "\n",
    "for topic in range(-1,9,1):\n",
    "    \n",
    "    most_similar_topic = np.argmax(sim_matrix[topic + 1])-1\n",
    "    \n",
    "    lda_opt_compare.append(\n",
    "        {'BERT_LDA topic': bertopic_lda.get_topic_info(topic)['CustomName'][0],\n",
    "         'Most similar BERT_Opt topic': bertopic_opt.get_topic_info(most_similar_topic)['CustomName'][0],\n",
    "         'Cosine similarity': round(sim_matrix[topic + 1][most_similar_topic+1],3)\n",
    "        }\n",
    "    )\n",
    "\n",
    "pd.DataFrame(lda_opt_compare)\n",
    "                       "
   ]
  }
 ],
 "metadata": {
  "kernelspec": {
   "display_name": "Python 3 (ipykernel)",
   "language": "python",
   "name": "python3"
  },
  "language_info": {
   "codemirror_mode": {
    "name": "ipython",
    "version": 3
   },
   "file_extension": ".py",
   "mimetype": "text/x-python",
   "name": "python",
   "nbconvert_exporter": "python",
   "pygments_lexer": "ipython3",
   "version": "3.11.5"
  }
 },
 "nbformat": 4,
 "nbformat_minor": 5
}
